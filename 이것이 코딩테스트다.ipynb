{
 "cells": [
  {
   "cell_type": "markdown",
   "metadata": {},
   "source": [
    "### 이것이 코팅테스트다 1. 기본사항\n"
   ]
  },
  {
   "cell_type": "code",
   "execution_count": null,
   "metadata": {},
   "outputs": [],
   "source": [
    "### round(123.456,2) -> 123.45\n"
   ]
  },
  {
   "cell_type": "markdown",
   "metadata": {},
   "source": [
    "### 리스트 컴프리헨션\n"
   ]
  },
  {
   "cell_type": "code",
   "execution_count": 1,
   "metadata": {},
   "outputs": [
    {
     "name": "stdout",
     "output_type": "stream",
     "text": [
      "[0, 1, 2, 3, 4, 5, 6, 7, 8, 9]\n"
     ]
    }
   ],
   "source": [
    "#0부터 9까지의 수를 포함하는 린스트\n",
    "array = [i for i in range(10)]\n",
    "\n",
    "print(array)\n",
    "\n"
   ]
  },
  {
   "cell_type": "code",
   "execution_count": null,
   "metadata": {},
   "outputs": [],
   "source": [
    "# 0부터 19까지의 수 중에서 홀수만 포함하는 리스트\n",
    "array = [i for i in range(20) if i % 2 ==1]\n",
    "\n",
    "print(array)\n",
    "\n",
    "\n",
    "# 1부터 9까지의 수들의 제곱 값을 포함하는 리스트\n",
    "array = [i*i for i in range(1,10)]\n",
    "print(array)\n"
   ]
  },
  {
   "cell_type": "markdown",
   "metadata": {},
   "source": [
    "### 2차원 리스트를 초기화 할때 효과적으로 사용\n",
    "N x M 크기의 2차원 리스트를 한번에 초기화 \n",
    "\n",
    "좋은예시 -> array = [[0] * m for _in range(n)]"
   ]
  },
  {
   "cell_type": "code",
   "execution_count": 3,
   "metadata": {},
   "outputs": [
    {
     "name": "stdout",
     "output_type": "stream",
     "text": [
      "{'사과': 'apple', '바나나': 'banana', '코코넛': 'coconut'}\n"
     ]
    }
   ],
   "source": [
    "## 문자열\n",
    "# 더해져서 연결,    슬라이싱 가능,  특정 인덱스값 변경 x\n",
    "\n",
    "#data = input()\n",
    "\n",
    "## 튜플\n",
    "# 한번 선언 변경x,     소괄호 () 사용,  리스트는 [] 대괄호 사용 * 튜플 > 리스트 공간 효율\n",
    "# data = (1, 2, 3)\n",
    "# data1 = [1, 2, 3]\n",
    "\n",
    "# -------> 리스트 튜플 둘다 순차적 저장\n",
    "\n",
    "\n",
    "## 딕셔너리\n",
    "# 키-벨류 쌍을 데이터로 가짐,       변경 불가능한 자료형,   해시테이블이라고도 함 -> 순서가 없음\n",
    "# 키 값을 이용한 데이터 참조\n",
    "\n",
    "data = dict()\n",
    "data[\"사과\"] = \"apple\"\n",
    "data[\"바나나\"] = \"banana\"\n",
    "data[\"코코넛\"] = \"coconut\"\n",
    "\n",
    "print(data)\n"
   ]
  },
  {
   "cell_type": "code",
   "execution_count": null,
   "metadata": {},
   "outputs": [],
   "source": []
  }
 ],
 "metadata": {
  "kernelspec": {
   "display_name": "Python 3",
   "language": "python",
   "name": "python3"
  },
  "language_info": {
   "codemirror_mode": {
    "name": "ipython",
    "version": 3
   },
   "file_extension": ".py",
   "mimetype": "text/x-python",
   "name": "python",
   "nbconvert_exporter": "python",
   "pygments_lexer": "ipython3",
   "version": "3.9.6"
  }
 },
 "nbformat": 4,
 "nbformat_minor": 2
}
